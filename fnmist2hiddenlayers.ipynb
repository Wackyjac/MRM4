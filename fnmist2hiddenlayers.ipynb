{
 "cells": [
  {
   "cell_type": "code",
   "execution_count": 135,
   "metadata": {},
   "outputs": [],
   "source": [
    "import pandas as pd\n",
    "import numpy as np\n",
    "import matplotlib.pyplot as plt\n",
    "import math\n",
    "import seaborn as sns\n",
    "import random\n",
    "import pygame\n",
    "from sklearn.metrics import f1_score\n",
    "from sklearn.metrics import silhouette_samples, silhouette_score"
   ]
  },
  {
   "cell_type": "code",
   "execution_count": 136,
   "metadata": {},
   "outputs": [
    {
     "name": "stdout",
     "output_type": "stream",
     "text": [
      "int64\n"
     ]
    }
   ],
   "source": [
    "data = pd.read_csv('C://Shaurya Games//New folder//fashion-mnist_train.csv')\n",
    "\n",
    "data = np.array(data)\n",
    "m, n = data.shape\n",
    "\n",
    "data_dev = data[0:1000].T\n",
    "Y_dev = data_dev[0]\n",
    "X_dev = data_dev[1:n]\n",
    "X_dev = X_dev / 255.\n",
    "\n",
    "data_train = data[1000:m].T\n",
    "Y_train = data_train[0]\n",
    "print(Y_train.dtype)\n",
    "X_train = data_train[1:n]\n",
    "X_train = X_train / 255.\n",
    "_,m_train = X_train.shape"
   ]
  },
  {
   "cell_type": "code",
   "execution_count": 137,
   "metadata": {},
   "outputs": [],
   "source": [
    "def ReLU(Z):\n",
    "    return np.maximum(Z, 0)\n",
    "\n",
    "def ReLU_deriv(Z):\n",
    "    return Z > 0"
   ]
  },
  {
   "cell_type": "code",
   "execution_count": 138,
   "metadata": {},
   "outputs": [],
   "source": [
    "def sigmoid(x):\n",
    "  return 1/(1+np.exp(-x))\n",
    "\n",
    "def der_sigmoid(x):\n",
    "  return sigmoid(x) * (1- sigmoid(x))"
   ]
  },
  {
   "cell_type": "code",
   "execution_count": 139,
   "metadata": {},
   "outputs": [],
   "source": [
    "def softmax(A):\n",
    "    \n",
    "    expA = np.exp(A)\n",
    "    return expA / sum(np.exp(A))"
   ]
  },
  {
   "cell_type": "code",
   "execution_count": 140,
   "metadata": {},
   "outputs": [],
   "source": [
    "def one_hot(Y):\n",
    "    one_hot_Y = np.zeros((Y.size, Y.max() + 1))\n",
    "    one_hot_Y[np.arange(Y.size), Y] = 1\n",
    "    one_hot_Y = one_hot_Y.T\n",
    "    return one_hot_Y"
   ]
  },
  {
   "cell_type": "code",
   "execution_count": 141,
   "metadata": {},
   "outputs": [],
   "source": [
    "def init_params():\n",
    "    W1 = np.random.rand(64, 784) - 0.5\n",
    "    b1 = np.random.rand(64, 1) - 0.5\n",
    "    W2 = np.random.rand(10, 64) - 0.5\n",
    "    b2 = np.random.rand(10, 1) - 0.5\n",
    "    W3 = np.random.rand(10, 10) - 0.5\n",
    "    b3 = np.random.rand(10, 1) - 0.5\n",
    "        \n",
    "    return W1, b1, W2, b2, W3, b3\n",
    "    \n",
    "def forward_prop(W1, b1, W2, b2, W3, b3, X):\n",
    "    Z1 = W1.dot(X) + b1\n",
    "    A1 = ReLU(Z1)\n",
    "    Z2 = W2.dot(A1) + b2\n",
    "    A2 = ReLU(Z2)\n",
    "    Z3 = W3.dot(A2) + b3\n",
    "    A3 = softmax(Z3)\n",
    "    return Z1, A1, Z2, A2, Z3, A3\n",
    "    \n",
    "def backward_prop(Z1, A1, Z2, A2, Z3, A3, W1, W2, W3, X, Y):\n",
    "    one_hot_Y = one_hot(Y)\n",
    "    dZ3 = A3 - one_hot_Y\n",
    "    dW3 = 1 / m * dZ3.dot(A2.T)\n",
    "    db3 = 1 / m * np.sum(dZ3)\n",
    "    dZ2 = W3.T.dot(dZ3) * ReLU_deriv(Z2)\n",
    "    dW2 = 1 / m * dZ2.dot(A1.T)\n",
    "    db2 = 1 / m * np.sum(dZ2)\n",
    "    dZ1 = W2.T.dot(dZ2) * ReLU_deriv(Z1)\n",
    "    dW1 = 1 / m * dZ1.dot(X.T)\n",
    "    db1 = 1 / m * np.sum(dZ1)\n",
    "    return dW1, db1, dW2, db2, dW3, db3\n",
    "    \n",
    "def update_params(W1, b1, W2, b2, W3, b3, dW1, db1, dW2, db2, dW3, db3, alpha):\n",
    "        \n",
    "    W1 = W1 - alpha * dW1\n",
    "    b1 = b1 - alpha * db1    \n",
    "    W2 = W2 - alpha * dW2  \n",
    "    b2 = b2 - alpha * db2\n",
    "    W3 = W3 - alpha * dW3  \n",
    "    b3 = b3 - alpha * db3  \n",
    "    return W1, b1, W2, b2, W3, b3\n",
    "    \n",
    "def get_predictions(A):\n",
    "    return np.argmax(A, 0)"
   ]
  },
  {
   "cell_type": "code",
   "execution_count": 142,
   "metadata": {},
   "outputs": [],
   "source": [
    "def get_accuracy(predictions, Y):\n",
    "    return np.sum(predictions == Y) / Y.size"
   ]
  },
  {
   "cell_type": "code",
   "execution_count": 143,
   "metadata": {},
   "outputs": [],
   "source": [
    "def compute_loss(y_true, y_pred):\n",
    "    #y_pred= one_hot(y_pred)\n",
    "    loss = -np.sum(y_true * np.log(y_pred + 1e-10)) / len(y_true)\n",
    "    return loss"
   ]
  },
  {
   "cell_type": "code",
   "execution_count": 144,
   "metadata": {},
   "outputs": [],
   "source": [
    "def gradient_descent(X, Y, alpha, iterations):\n",
    "    loss=[]\n",
    "    W1, b1, W2, b2, W3, b3 = init_params()\n",
    "    for i in range(iterations):\n",
    "        Z1, A1, Z2, A2, Z3, A3 = forward_prop(W1, b1, W2, b2, W3, b3, X)\n",
    "        dW1, db1, dW2, db2, dW3, db3 = backward_prop(Z1, A1, Z2, A2, Z3, A3, W1, W2, W3, X, Y)\n",
    "        W1, b1, W2, b2, W3, b3 = update_params(W1, b1, W2, b2, W3, b3, dW1, db1, dW2, db2, dW3, db3, alpha)\n",
    "        if i % 10 == 0:\n",
    "            print(\"Iteration: \", i)\n",
    "            predictions = get_predictions(A3)\n",
    "            print(get_accuracy(predictions, Y))\n",
    "            loss.append(compute_loss(one_hot(Y), A3))\n",
    "            print(predictions)\n",
    "    return W1, b1, W2, b2, W3, b3, loss"
   ]
  },
  {
   "cell_type": "code",
   "execution_count": 145,
   "metadata": {},
   "outputs": [
    {
     "name": "stdout",
     "output_type": "stream",
     "text": [
      "int64\n",
      "Iteration:  0\n",
      "0.07206779661016949\n",
      "[6 3 3 ... 3 3 9]\n",
      "Iteration:  10\n",
      "0.1854237288135593\n",
      "[1 1 7 ... 9 6 9]\n",
      "Iteration:  20\n",
      "0.28440677966101696\n",
      "[1 1 7 ... 9 9 5]\n",
      "Iteration:  30\n",
      "0.34527118644067795\n",
      "[7 1 6 ... 5 5 7]\n",
      "Iteration:  40\n",
      "0.46623728813559323\n",
      "[7 6 6 ... 5 8 7]\n",
      "Iteration:  50\n",
      "0.4960677966101695\n",
      "[7 8 6 ... 8 8 7]\n",
      "Iteration:  60\n",
      "0.5480169491525424\n",
      "[7 2 6 ... 8 8 7]\n",
      "Iteration:  70\n",
      "0.6125593220338983\n",
      "[7 2 6 ... 8 8 7]\n",
      "Iteration:  80\n",
      "0.6325254237288136\n",
      "[7 2 6 ... 8 8 7]\n",
      "Iteration:  90\n",
      "0.6138474576271187\n",
      "[7 2 6 ... 8 8 7]\n",
      "Iteration:  100\n",
      "0.6433050847457628\n",
      "[7 2 6 ... 8 8 7]\n",
      "Iteration:  110\n",
      "0.6542203389830509\n",
      "[7 2 6 ... 8 8 7]\n",
      "Iteration:  120\n",
      "0.6622372881355932\n",
      "[5 2 6 ... 8 8 7]\n",
      "Iteration:  130\n",
      "0.6691694915254237\n",
      "[5 2 6 ... 8 8 7]\n",
      "Iteration:  140\n",
      "0.6765593220338983\n",
      "[5 2 6 ... 8 8 7]\n",
      "Iteration:  150\n",
      "0.6826101694915254\n",
      "[5 2 6 ... 8 8 7]\n",
      "Iteration:  160\n",
      "0.6876949152542373\n",
      "[5 2 6 ... 8 8 7]\n",
      "Iteration:  170\n",
      "0.6922203389830508\n",
      "[5 2 6 ... 8 8 7]\n",
      "Iteration:  180\n",
      "0.6964406779661017\n",
      "[5 2 0 ... 8 8 7]\n",
      "Iteration:  190\n",
      "0.7003389830508474\n",
      "[5 2 0 ... 8 8 7]\n",
      "Iteration:  200\n",
      "0.7046101694915254\n",
      "[5 2 0 ... 8 8 7]\n",
      "Iteration:  210\n",
      "0.708406779661017\n",
      "[5 6 0 ... 8 8 7]\n",
      "Iteration:  220\n",
      "0.7121525423728814\n",
      "[5 6 0 ... 8 8 7]\n",
      "Iteration:  230\n",
      "0.7155423728813559\n",
      "[8 6 0 ... 8 8 7]\n",
      "Iteration:  240\n",
      "0.7194915254237289\n",
      "[8 6 6 ... 8 8 7]\n",
      "Iteration:  250\n",
      "0.722406779661017\n",
      "[8 6 6 ... 8 8 7]\n",
      "Iteration:  260\n",
      "0.7256949152542372\n",
      "[8 6 6 ... 8 8 7]\n",
      "Iteration:  270\n",
      "0.7282033898305085\n",
      "[8 6 6 ... 8 8 7]\n",
      "Iteration:  280\n",
      "0.7308474576271187\n",
      "[8 6 6 ... 8 8 7]\n",
      "Iteration:  290\n",
      "0.7326101694915255\n",
      "[8 6 6 ... 8 8 7]\n"
     ]
    }
   ],
   "source": [
    "print(Y_train.dtype)\n",
    "W1, b1, W2, b2, W3, b3, loss = gradient_descent(X_train, Y_train, 0.1, 300)"
   ]
  },
  {
   "cell_type": "code",
   "execution_count": 146,
   "metadata": {},
   "outputs": [
    {
     "name": "stdout",
     "output_type": "stream",
     "text": [
      "[23760.2408700561, 12393.003736612614, 11304.20097446163, 10517.384631417368, 9314.52097894243, 8319.880806082136, 7133.016044495972, 6178.357930694485, 5764.476576467017, 6227.728831398856, 5528.395021966624, 5349.643816047171, 5204.991202744742, 5074.8150399359665, 4954.191362092114, 4853.184384230103, 4761.729359431883, 4681.431701656827, 4604.100808016947, 4532.116822476955, 4467.027112695476, 4406.739376338584, 4352.438323249446, 4305.559760257348, 4256.047387713236, 4212.488690600857, 4173.346358860606, 4138.367625893797, 4104.622887503081, 4073.8168530185985]\n"
     ]
    },
    {
     "data": {
      "text/plain": [
       "0.721"
      ]
     },
     "execution_count": 146,
     "metadata": {},
     "output_type": "execute_result"
    },
    {
     "data": {
      "image/png": "[encoded data removed]",
      "text/plain": [
       "<Figure size 640x480 with 1 Axes>"
      ]
     },
     "metadata": {},
     "output_type": "display_data"
    }
   ],
   "source": [
    "print(loss)\n",
    "loss=loss[1:]\n",
    "plt.plot(range(len(loss)),loss)\n",
    "plt.xlabel('epochs/10')\n",
    "plt.ylabel('cost')\n",
    "z1,a1,z2,a2,z3,a3=forward_prop(W1, b1, W2, b2, W3, b3, X_dev)\n",
    "predictions=get_predictions(a3)\n",
    "get_accuracy(predictions, Y_dev)"
   ]
  },
  {
   "cell_type": "code",
   "execution_count": 147,
   "metadata": {},
   "outputs": [
    {
     "name": "stdout",
     "output_type": "stream",
     "text": [
      "[[0 0 0 ... 0 0 0]\n",
      " [0 0 0 ... 0 1 0]\n",
      " [0 0 0 ... 0 3 0]\n",
      " ...\n",
      " [0 0 0 ... 0 0 0]\n",
      " [0 0 0 ... 1 0 0]\n",
      " [0 0 0 ... 0 0 0]]\n",
      "0.7277841124348101\n",
      "0.7296\n"
     ]
    }
   ],
   "source": [
    "df3 = pd.read_csv('C://Shaurya Games//New folder//fashion-mnist_test.csv')\n",
    "\n",
    "df3 = np.array(df3)\n",
    "m, n = data.shape\n",
    "np.random.shuffle(data) # shuffle before splitting into dev and training sets\n",
    "\n",
    "df3 = df3.T\n",
    "Y_test = df3[0]\n",
    "X_test = df3[1:n]\n",
    "print(X_test)\n",
    "X_test = X_test / 255.\n",
    "_,m_train = X_test.shape\n",
    "\n",
    "z1,a1,z2,a2,z3,a3=forward_prop(W1, b1, W2, b2, W3, b3, X_test)\n",
    "predictions=get_predictions(a3)\n",
    "get_accuracy(predictions, Y_test)\n",
    "print(f1_score(predictions, Y_test, average='macro'))\n",
    "print(f1_score(predictions, Y_test, average='micro'))"
   ]
  }
 ],
 "metadata": {
  "kernelspec": {
   "display_name": "base",
   "language": "python",
   "name": "python3"
  },
  "language_info": {
   "codemirror_mode": {
    "name": "ipython",
    "version": 3
   },
   "file_extension": ".py",
   "mimetype": "text/x-python",
   "name": "python",
   "nbconvert_exporter": "python",
   "pygments_lexer": "ipython3",
   "version": "3.9.13"
  }
 },
 "nbformat": 4,
 "nbformat_minor": 2
}
